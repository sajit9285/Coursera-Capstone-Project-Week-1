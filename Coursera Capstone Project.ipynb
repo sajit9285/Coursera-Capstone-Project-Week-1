{
 "cells": [
  {
   "cell_type": "markdown",
   "metadata": {},
   "source": [
    "# Coursera Project Capstone- The Battle of Neighborhoods"
   ]
  },
  {
   "cell_type": "markdown",
   "metadata": {},
   "source": [
    "### Introduction\n",
    "\n",
    "Canada is a one of the most popular destination of Indian Engineering Students for advance studies and also for doing Internships like Mitacs etc. When new students go there, they usually miss the Indian foods badly, because of unique taste of native foods.\n",
    "<p>\n",
    "This Project is aimed to help them in finding <strong>the best Indian restaurants in Toronto, the provincial capital of Ontario, Canada</strong>. </p>\n",
    "\n",
    "I chose Toronto, because, the highest concentrations of Indo-Canadians are found in the provinces of Ontario and British Columbia, followed by growing communities in Alberta and Quebec as well, with the majority of them being foreign-born."
   ]
  },
  {
   "cell_type": "markdown",
   "metadata": {},
   "source": [
    "### About Data\n",
    "\n",
    "\n",
    "For the Toronto neighborhood data, a Wikipedia page: <a href = 'https://en.wikipedia.org/wiki/List_of_postal_codes_of_Canada:_M'>wiki_page</a> exists that has all the information we need to explore and cluster the neighborhoods in Toronto. I will have to scrape the Wikipedia page and wrangle the data, clean it, and then read it into a pandas dataframe so that it is in a structured format."
   ]
  },
  {
   "cell_type": "markdown",
   "metadata": {},
   "source": [
    "### Approach\n",
    "\n",
    "I will collect the Toronto city data from above <a href = 'https://en.wikipedia.org/wiki/List_of_postal_codes_of_Canada:_M'>link</a> and using <strong>FourSquare API</strong>, I will find all venues for each neighborhood. Then, filtering out all the venues that have Indian restaurants. I will analyse ratings, tips and count for Indian restaurants. I will sort that data and visualize the ranking of neighborhoods using <strong>folium library</strong> of Python.   \n"
   ]
  },
  {
   "cell_type": "markdown",
   "metadata": {},
   "source": [
    "### Problem Statement :\n",
    "\n",
    "<strong>Which is/are the best place/s to stay in the Toronto city if I prefer Indian foods ?</strong>\n",
    "\n"
   ]
  },
  {
   "cell_type": "code",
   "execution_count": null,
   "metadata": {},
   "outputs": [],
   "source": []
  }
 ],
 "metadata": {
  "kernelspec": {
   "display_name": "Python 3",
   "language": "python",
   "name": "python3"
  },
  "language_info": {
   "codemirror_mode": {
    "name": "ipython",
    "version": 3
   },
   "file_extension": ".py",
   "mimetype": "text/x-python",
   "name": "python",
   "nbconvert_exporter": "python",
   "pygments_lexer": "ipython3",
   "version": "3.7.3"
  }
 },
 "nbformat": 4,
 "nbformat_minor": 2
}
